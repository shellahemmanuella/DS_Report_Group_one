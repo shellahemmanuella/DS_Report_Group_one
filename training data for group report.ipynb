{
 "cells": [
  {
   "cell_type": "code",
   "execution_count": 5,
   "id": "9f56e994",
   "metadata": {},
   "outputs": [],
   "source": [
    "#importing necessary libraries\n",
    "import numpy as np\n",
    "import pandas as pd\n",
    "import matplotlib.pyplot as plt\n",
    "import sklearn as sk\n",
    "import seaborn as sn"
   ]
  },
  {
   "cell_type": "code",
   "execution_count": 6,
   "id": "f62f3a12",
   "metadata": {},
   "outputs": [],
   "source": [
    "from sklearn.linear_model import LinearRegression"
   ]
  },
  {
   "cell_type": "code",
   "execution_count": 7,
   "id": "34e4438b",
   "metadata": {},
   "outputs": [
    {
     "data": {
      "text/html": [
       "<div>\n",
       "<style scoped>\n",
       "    .dataframe tbody tr th:only-of-type {\n",
       "        vertical-align: middle;\n",
       "    }\n",
       "\n",
       "    .dataframe tbody tr th {\n",
       "        vertical-align: top;\n",
       "    }\n",
       "\n",
       "    .dataframe thead th {\n",
       "        text-align: right;\n",
       "    }\n",
       "</style>\n",
       "<table border=\"1\" class=\"dataframe\">\n",
       "  <thead>\n",
       "    <tr style=\"text-align: right;\">\n",
       "      <th></th>\n",
       "      <th>Country Code</th>\n",
       "      <th>TableName</th>\n",
       "      <th>IncomeGroup</th>\n",
       "      <th>PopDensity_2018</th>\n",
       "      <th>Confirmed Cases</th>\n",
       "      <th>Deaths</th>\n",
       "      <th>Mortality Rate</th>\n",
       "      <th>Population_2019</th>\n",
       "      <th>GDP_2019</th>\n",
       "      <th>GDP_per_cap_2019</th>\n",
       "      <th>Main Leader Gender</th>\n",
       "      <th>Any Leader Gender</th>\n",
       "      <th>Avg Temp</th>\n",
       "      <th>Normalized Cases</th>\n",
       "      <th>Normalized Deaths</th>\n",
       "    </tr>\n",
       "  </thead>\n",
       "  <tbody>\n",
       "    <tr>\n",
       "      <th>0</th>\n",
       "      <td>AFG</td>\n",
       "      <td>Afghanistan</td>\n",
       "      <td>Low income</td>\n",
       "      <td>56.937760</td>\n",
       "      <td>39192</td>\n",
       "      <td>1453</td>\n",
       "      <td>3.707389</td>\n",
       "      <td>38041754</td>\n",
       "      <td>1.910135e+10</td>\n",
       "      <td>2293.551684</td>\n",
       "      <td>M</td>\n",
       "      <td>M</td>\n",
       "      <td>12.60</td>\n",
       "      <td>0.001030</td>\n",
       "      <td>3.820000e-05</td>\n",
       "    </tr>\n",
       "    <tr>\n",
       "      <th>1</th>\n",
       "      <td>AGO</td>\n",
       "      <td>Angola</td>\n",
       "      <td>Lower middle income</td>\n",
       "      <td>24.713052</td>\n",
       "      <td>4672</td>\n",
       "      <td>171</td>\n",
       "      <td>3.660103</td>\n",
       "      <td>31825295</td>\n",
       "      <td>9.463542e+10</td>\n",
       "      <td>6929.678158</td>\n",
       "      <td>M</td>\n",
       "      <td>M</td>\n",
       "      <td>21.55</td>\n",
       "      <td>0.000147</td>\n",
       "      <td>5.370000e-06</td>\n",
       "    </tr>\n",
       "    <tr>\n",
       "      <th>2</th>\n",
       "      <td>ALB</td>\n",
       "      <td>Albania</td>\n",
       "      <td>Upper middle income</td>\n",
       "      <td>104.612263</td>\n",
       "      <td>13153</td>\n",
       "      <td>375</td>\n",
       "      <td>2.851061</td>\n",
       "      <td>2854191</td>\n",
       "      <td>1.527808e+10</td>\n",
       "      <td>14495.078510</td>\n",
       "      <td>M</td>\n",
       "      <td>M</td>\n",
       "      <td>11.40</td>\n",
       "      <td>0.004608</td>\n",
       "      <td>1.313860e-04</td>\n",
       "    </tr>\n",
       "    <tr>\n",
       "      <th>3</th>\n",
       "      <td>AND</td>\n",
       "      <td>Andorra</td>\n",
       "      <td>High income</td>\n",
       "      <td>163.842553</td>\n",
       "      <td>1836</td>\n",
       "      <td>53</td>\n",
       "      <td>2.886710</td>\n",
       "      <td>77142</td>\n",
       "      <td>3.154058e+09</td>\n",
       "      <td>NaN</td>\n",
       "      <td>M</td>\n",
       "      <td>M</td>\n",
       "      <td>7.60</td>\n",
       "      <td>0.023800</td>\n",
       "      <td>6.870450e-04</td>\n",
       "    </tr>\n",
       "    <tr>\n",
       "      <th>4</th>\n",
       "      <td>ARE</td>\n",
       "      <td>United Arab Emirates</td>\n",
       "      <td>High income</td>\n",
       "      <td>135.609110</td>\n",
       "      <td>90618</td>\n",
       "      <td>411</td>\n",
       "      <td>0.453552</td>\n",
       "      <td>9770529</td>\n",
       "      <td>4.211420e+11</td>\n",
       "      <td>69900.877850</td>\n",
       "      <td>M</td>\n",
       "      <td>M</td>\n",
       "      <td>27.00</td>\n",
       "      <td>0.009275</td>\n",
       "      <td>4.210000e-05</td>\n",
       "    </tr>\n",
       "    <tr>\n",
       "      <th>...</th>\n",
       "      <td>...</td>\n",
       "      <td>...</td>\n",
       "      <td>...</td>\n",
       "      <td>...</td>\n",
       "      <td>...</td>\n",
       "      <td>...</td>\n",
       "      <td>...</td>\n",
       "      <td>...</td>\n",
       "      <td>...</td>\n",
       "      <td>...</td>\n",
       "      <td>...</td>\n",
       "      <td>...</td>\n",
       "      <td>...</td>\n",
       "      <td>...</td>\n",
       "      <td>...</td>\n",
       "    </tr>\n",
       "    <tr>\n",
       "      <th>177</th>\n",
       "      <td>VNM</td>\n",
       "      <td>Vietnam</td>\n",
       "      <td>Lower middle income</td>\n",
       "      <td>308.125246</td>\n",
       "      <td>1069</td>\n",
       "      <td>35</td>\n",
       "      <td>3.274088</td>\n",
       "      <td>96462106</td>\n",
       "      <td>2.619210e+11</td>\n",
       "      <td>8374.444328</td>\n",
       "      <td>M</td>\n",
       "      <td>M</td>\n",
       "      <td>24.45</td>\n",
       "      <td>0.000011</td>\n",
       "      <td>3.630000e-07</td>\n",
       "    </tr>\n",
       "    <tr>\n",
       "      <th>178</th>\n",
       "      <td>YEM</td>\n",
       "      <td>Yemen, Rep.</td>\n",
       "      <td>Low income</td>\n",
       "      <td>53.977853</td>\n",
       "      <td>2030</td>\n",
       "      <td>587</td>\n",
       "      <td>28.916256</td>\n",
       "      <td>29161922</td>\n",
       "      <td>NaN</td>\n",
       "      <td>NaN</td>\n",
       "      <td>M</td>\n",
       "      <td>M</td>\n",
       "      <td>23.85</td>\n",
       "      <td>0.000070</td>\n",
       "      <td>2.010000e-05</td>\n",
       "    </tr>\n",
       "    <tr>\n",
       "      <th>179</th>\n",
       "      <td>ZAF</td>\n",
       "      <td>South Africa</td>\n",
       "      <td>Upper middle income</td>\n",
       "      <td>47.630120</td>\n",
       "      <td>669498</td>\n",
       "      <td>16376</td>\n",
       "      <td>2.446012</td>\n",
       "      <td>58558270</td>\n",
       "      <td>3.514320e+11</td>\n",
       "      <td>12999.120260</td>\n",
       "      <td>M</td>\n",
       "      <td>M</td>\n",
       "      <td>17.75</td>\n",
       "      <td>0.011433</td>\n",
       "      <td>2.796530e-04</td>\n",
       "    </tr>\n",
       "    <tr>\n",
       "      <th>180</th>\n",
       "      <td>ZMB</td>\n",
       "      <td>Zambia</td>\n",
       "      <td>Lower middle income</td>\n",
       "      <td>23.341479</td>\n",
       "      <td>14612</td>\n",
       "      <td>332</td>\n",
       "      <td>2.272105</td>\n",
       "      <td>17861030</td>\n",
       "      <td>2.306472e+10</td>\n",
       "      <td>3623.699395</td>\n",
       "      <td>M</td>\n",
       "      <td>M</td>\n",
       "      <td>21.40</td>\n",
       "      <td>0.000818</td>\n",
       "      <td>1.860000e-05</td>\n",
       "    </tr>\n",
       "    <tr>\n",
       "      <th>181</th>\n",
       "      <td>ZWE</td>\n",
       "      <td>Zimbabwe</td>\n",
       "      <td>Lower middle income</td>\n",
       "      <td>37.324591</td>\n",
       "      <td>7803</td>\n",
       "      <td>227</td>\n",
       "      <td>2.909138</td>\n",
       "      <td>14645468</td>\n",
       "      <td>2.144076e+10</td>\n",
       "      <td>2953.484113</td>\n",
       "      <td>M</td>\n",
       "      <td>M</td>\n",
       "      <td>21.00</td>\n",
       "      <td>0.000533</td>\n",
       "      <td>1.550000e-05</td>\n",
       "    </tr>\n",
       "  </tbody>\n",
       "</table>\n",
       "<p>182 rows × 15 columns</p>\n",
       "</div>"
      ],
      "text/plain": [
       "    Country Code             TableName          IncomeGroup  PopDensity_2018  \\\n",
       "0            AFG           Afghanistan           Low income        56.937760   \n",
       "1            AGO                Angola  Lower middle income        24.713052   \n",
       "2            ALB               Albania  Upper middle income       104.612263   \n",
       "3            AND               Andorra          High income       163.842553   \n",
       "4            ARE  United Arab Emirates          High income       135.609110   \n",
       "..           ...                   ...                  ...              ...   \n",
       "177          VNM               Vietnam  Lower middle income       308.125246   \n",
       "178          YEM           Yemen, Rep.           Low income        53.977853   \n",
       "179          ZAF          South Africa  Upper middle income        47.630120   \n",
       "180          ZMB                Zambia  Lower middle income        23.341479   \n",
       "181          ZWE              Zimbabwe  Lower middle income        37.324591   \n",
       "\n",
       "     Confirmed Cases  Deaths  Mortality Rate  Population_2019      GDP_2019  \\\n",
       "0              39192    1453        3.707389         38041754  1.910135e+10   \n",
       "1               4672     171        3.660103         31825295  9.463542e+10   \n",
       "2              13153     375        2.851061          2854191  1.527808e+10   \n",
       "3               1836      53        2.886710            77142  3.154058e+09   \n",
       "4              90618     411        0.453552          9770529  4.211420e+11   \n",
       "..               ...     ...             ...              ...           ...   \n",
       "177             1069      35        3.274088         96462106  2.619210e+11   \n",
       "178             2030     587       28.916256         29161922           NaN   \n",
       "179           669498   16376        2.446012         58558270  3.514320e+11   \n",
       "180            14612     332        2.272105         17861030  2.306472e+10   \n",
       "181             7803     227        2.909138         14645468  2.144076e+10   \n",
       "\n",
       "     GDP_per_cap_2019 Main Leader Gender Any Leader Gender  Avg Temp  \\\n",
       "0         2293.551684                  M                 M     12.60   \n",
       "1         6929.678158                  M                 M     21.55   \n",
       "2        14495.078510                  M                 M     11.40   \n",
       "3                 NaN                  M                 M      7.60   \n",
       "4        69900.877850                  M                 M     27.00   \n",
       "..                ...                ...               ...       ...   \n",
       "177       8374.444328                  M                 M     24.45   \n",
       "178               NaN                  M                 M     23.85   \n",
       "179      12999.120260                  M                 M     17.75   \n",
       "180       3623.699395                  M                 M     21.40   \n",
       "181       2953.484113                  M                 M     21.00   \n",
       "\n",
       "     Normalized Cases  Normalized Deaths  \n",
       "0            0.001030       3.820000e-05  \n",
       "1            0.000147       5.370000e-06  \n",
       "2            0.004608       1.313860e-04  \n",
       "3            0.023800       6.870450e-04  \n",
       "4            0.009275       4.210000e-05  \n",
       "..                ...                ...  \n",
       "177          0.000011       3.630000e-07  \n",
       "178          0.000070       2.010000e-05  \n",
       "179          0.011433       2.796530e-04  \n",
       "180          0.000818       1.860000e-05  \n",
       "181          0.000533       1.550000e-05  \n",
       "\n",
       "[182 rows x 15 columns]"
      ]
     },
     "execution_count": 7,
     "metadata": {},
     "output_type": "execute_result"
    }
   ],
   "source": [
    "df=pd.read_csv(\"exam1/exam1.csv\");\n",
    "df #df is the name of the data we are dealing with"
   ]
  },
  {
   "cell_type": "code",
   "execution_count": 3,
   "id": "8eeae757",
   "metadata": {},
   "outputs": [
    {
     "data": {
      "text/plain": [
       "Index(['Country Code', 'TableName', 'IncomeGroup', 'PopDensity_2018',\n",
       "       'Confirmed Cases', 'Deaths', 'Mortality Rate', 'Population_2019',\n",
       "       'GDP_2019', 'GDP_per_cap_2019', 'Main Leader Gender',\n",
       "       'Any Leader Gender', 'Avg Temp', 'Normalized Cases',\n",
       "       'Normalized Deaths'],\n",
       "      dtype='object')"
      ]
     },
     "execution_count": 3,
     "metadata": {},
     "output_type": "execute_result"
    }
   ],
   "source": [
    "df.columns"
   ]
  },
  {
   "cell_type": "code",
   "execution_count": 4,
   "id": "bf8bd02e",
   "metadata": {},
   "outputs": [
    {
     "name": "stderr",
     "output_type": "stream",
     "text": [
      "C:\\Users\\new\\AppData\\Local\\Temp\\ipykernel_4084\\3698961737.py:1: FutureWarning: Dropping of nuisance columns in DataFrame reductions (with 'numeric_only=None') is deprecated; in a future version this will raise TypeError.  Select only valid columns before calling the reduction.\n",
      "  df.mean()\n"
     ]
    },
    {
     "data": {
      "text/plain": [
       "PopDensity_2018      2.095787e+02\n",
       "Confirmed Cases      1.798681e+05\n",
       "Deaths               5.453187e+03\n",
       "Mortality Rate       2.552053e+00\n",
       "Population_2019      4.176762e+07\n",
       "GDP_2019             5.037484e+11\n",
       "GDP_per_cap_2019     2.217566e+04\n",
       "Avg Temp             1.851112e+01\n",
       "Normalized Cases     5.141533e-03\n",
       "Normalized Deaths    1.256217e-04\n",
       "dtype: float64"
      ]
     },
     "execution_count": 4,
     "metadata": {},
     "output_type": "execute_result"
    }
   ],
   "source": [
    "#calculating the statistics on the dataset of df\n",
    "df.mean()"
   ]
  },
  {
   "cell_type": "code",
   "execution_count": 5,
   "id": "044dabd2",
   "metadata": {},
   "outputs": [
    {
     "name": "stderr",
     "output_type": "stream",
     "text": [
      "C:\\Users\\new\\AppData\\Local\\Temp\\ipykernel_4084\\3390915376.py:1: FutureWarning: Dropping of nuisance columns in DataFrame reductions (with 'numeric_only=None') is deprecated; in a future version this will raise TypeError.  Select only valid columns before calling the reduction.\n",
      "  df.std()\n"
     ]
    },
    {
     "data": {
      "text/plain": [
       "PopDensity_2018      6.422766e+02\n",
       "Confirmed Cases      7.728216e+05\n",
       "Deaths               2.107953e+04\n",
       "Mortality Rate       2.807438e+00\n",
       "Population_2019      1.494774e+08\n",
       "GDP_2019             2.060972e+12\n",
       "GDP_per_cap_2019     2.202846e+04\n",
       "Avg Temp             8.179984e+00\n",
       "Normalized Cases     7.288670e-03\n",
       "Normalized Deaths    2.077631e-04\n",
       "dtype: float64"
      ]
     },
     "execution_count": 5,
     "metadata": {},
     "output_type": "execute_result"
    }
   ],
   "source": [
    "df.std()"
   ]
  },
  {
   "cell_type": "code",
   "execution_count": 6,
   "id": "d41be34f",
   "metadata": {},
   "outputs": [
    {
     "name": "stderr",
     "output_type": "stream",
     "text": [
      "C:\\Users\\new\\AppData\\Local\\Temp\\ipykernel_4084\\530051474.py:1: FutureWarning: Dropping of nuisance columns in DataFrame reductions (with 'numeric_only=None') is deprecated; in a future version this will raise TypeError.  Select only valid columns before calling the reduction.\n",
      "  df.median()\n"
     ]
    },
    {
     "data": {
      "text/plain": [
       "PopDensity_2018      8.394949e+01\n",
       "Confirmed Cases      1.337950e+04\n",
       "Deaths               2.280000e+02\n",
       "Mortality Rate       2.004451e+00\n",
       "Population_2019      9.758033e+06\n",
       "GDP_2019             4.731962e+10\n",
       "GDP_per_cap_2019     1.474795e+04\n",
       "Avg Temp             2.185000e+01\n",
       "Normalized Cases     2.313203e-03\n",
       "Normalized Deaths    3.815000e-05\n",
       "dtype: float64"
      ]
     },
     "execution_count": 6,
     "metadata": {},
     "output_type": "execute_result"
    }
   ],
   "source": [
    "df.median()"
   ]
  },
  {
   "cell_type": "code",
   "execution_count": 7,
   "id": "0bb49c9c",
   "metadata": {},
   "outputs": [
    {
     "data": {
      "text/plain": [
       "Country Code                          ZWE\n",
       "TableName                        Zimbabwe\n",
       "IncomeGroup           Upper middle income\n",
       "PopDensity_2018               7952.998418\n",
       "Confirmed Cases                   7078039\n",
       "Deaths                             204486\n",
       "Mortality Rate                  28.916256\n",
       "Population_2019                1397715000\n",
       "GDP_2019                 21374400000000.0\n",
       "GDP_per_cap_2019              121292.7393\n",
       "Main Leader Gender                      M\n",
       "Any Leader Gender                       M\n",
       "Avg Temp                            28.29\n",
       "Normalized Cases                 0.044084\n",
       "Normalized Deaths                 0.00124\n",
       "dtype: object"
      ]
     },
     "execution_count": 7,
     "metadata": {},
     "output_type": "execute_result"
    }
   ],
   "source": [
    "df.max()"
   ]
  },
  {
   "cell_type": "code",
   "execution_count": 8,
   "id": "8b4b27cf",
   "metadata": {
    "scrolled": true
   },
   "outputs": [
    {
     "data": {
      "text/plain": [
       "Country Code                  AFG\n",
       "TableName             Afghanistan\n",
       "IncomeGroup           High income\n",
       "PopDensity_2018          2.040609\n",
       "Confirmed Cases                19\n",
       "Deaths                          0\n",
       "Mortality Rate                0.0\n",
       "Population_2019             33860\n",
       "GDP_2019              429016605.2\n",
       "GDP_per_cap_2019       782.816589\n",
       "Main Leader Gender              F\n",
       "Any Leader Gender               F\n",
       "Avg Temp                     -5.1\n",
       "Normalized Cases         0.000003\n",
       "Normalized Deaths             0.0\n",
       "dtype: object"
      ]
     },
     "execution_count": 8,
     "metadata": {},
     "output_type": "execute_result"
    }
   ],
   "source": [
    "df.min()"
   ]
  },
  {
   "cell_type": "code",
   "execution_count": 8,
   "id": "88a360e2",
   "metadata": {},
   "outputs": [
    {
     "data": {
      "text/plain": [
       "0       39192\n",
       "1        4672\n",
       "2       13153\n",
       "3        1836\n",
       "4       90618\n",
       "        ...  \n",
       "177      1069\n",
       "178      2030\n",
       "179    669498\n",
       "180     14612\n",
       "181      7803\n",
       "Name: Confirmed Cases, Length: 182, dtype: int64"
      ]
     },
     "execution_count": 8,
     "metadata": {},
     "output_type": "execute_result"
    }
   ],
   "source": [
    "a = df.loc[:,'Confirmed Cases'];\n",
    "a #let a be the confirmed cases"
   ]
  },
  {
   "cell_type": "code",
   "execution_count": 9,
   "id": "dbf97259",
   "metadata": {},
   "outputs": [
    {
     "data": {
      "image/png": "[encoded data removed]",
      "text/plain": [
       "<Figure size 432x288 with 1 Axes>"
      ]
     },
     "metadata": {
      "needs_background": "light"
     },
     "output_type": "display_data"
    }
   ],
   "source": [
    "plt.plot(a,'o');\n",
    "plt.title('A graph showing Confirmed cases against Countries in the Covid_19 dataset')\n",
    "plt.xlabel('Countries');\n",
    "plt.ylabel('Confirmed cases');"
   ]
  },
  {
   "cell_type": "code",
   "execution_count": 13,
   "id": "dd4fcb94",
   "metadata": {},
   "outputs": [
    {
     "data": {
      "text/plain": [
       "0       1453\n",
       "1        171\n",
       "2        375\n",
       "3         53\n",
       "4        411\n",
       "       ...  \n",
       "177       35\n",
       "178      587\n",
       "179    16376\n",
       "180      332\n",
       "181      227\n",
       "Name: Deaths, Length: 182, dtype: int64"
      ]
     },
     "execution_count": 13,
     "metadata": {},
     "output_type": "execute_result"
    }
   ],
   "source": [
    "b = df.loc[:,'Deaths'];\n",
    "b #let b be deaths"
   ]
  },
  {
   "cell_type": "code",
   "execution_count": 12,
   "id": "dd61cbbc",
   "metadata": {},
   "outputs": [
    {
     "data": {
      "image/png": "[encoded data removed]",
      "text/plain": [
       "<Figure size 432x288 with 1 Axes>"
      ]
     },
     "metadata": {
      "needs_background": "light"
     },
     "output_type": "display_data"
    }
   ],
   "source": [
    "plt.plot(b,'o');\n",
    "plt.title('A graph showing Deaths against Countries in the Covid_19 dataset')\n",
    "plt.xlabel('Countries');\n",
    "plt.ylabel('Deaths');"
   ]
  },
  {
   "cell_type": "code",
   "execution_count": 20,
   "id": "3a7a8262",
   "metadata": {},
   "outputs": [
    {
     "data": {
      "text/plain": [
       "0      38041754\n",
       "1      31825295\n",
       "2       2854191\n",
       "3         77142\n",
       "4       9770529\n",
       "         ...   \n",
       "177    96462106\n",
       "178    29161922\n",
       "179    58558270\n",
       "180    17861030\n",
       "181    14645468\n",
       "Name: Population_2019, Length: 182, dtype: int64"
      ]
     },
     "execution_count": 20,
     "metadata": {},
     "output_type": "execute_result"
    }
   ],
   "source": [
    "c = df.loc[:,'Population_2019'];\n",
    "c #let c be the population 2019"
   ]
  },
  {
   "cell_type": "code",
   "execution_count": 21,
   "id": "b5b12de0",
   "metadata": {},
   "outputs": [
    {
     "data": {
      "image/png": "[encoded data removed]",
      "text/plain": [
       "<Figure size 432x288 with 1 Axes>"
      ]
     },
     "metadata": {
      "needs_background": "light"
     },
     "output_type": "display_data"
    }
   ],
   "source": [
    "plt.plot(c,'o');\n",
    "plt.title('A graph showing Population 2019 against Countries in the Covid_19 dataset')\n",
    "plt.xlabel('Countries');\n",
    "plt.ylabel('Population 2019');"
   ]
  },
  {
   "cell_type": "code",
   "execution_count": 22,
   "id": "e009b4ad",
   "metadata": {},
   "outputs": [
    {
     "data": {
      "image/png": "[encoded data removed]",
      "text/plain": [
       "<Figure size 432x288 with 1 Axes>"
      ]
     },
     "metadata": {
      "needs_background": "light"
     },
     "output_type": "display_data"
    }
   ],
   "source": [
    "plt.scatter(a,b);\n",
    "plt.title('A graph showing Confirmed cases against Deaths in the Covid_19 dataset')\n",
    "plt.xlabel('Deaths');\n",
    "plt.ylabel('Confirmed Cases');"
   ]
  },
  {
   "cell_type": "code",
   "execution_count": 23,
   "id": "a6073fae",
   "metadata": {},
   "outputs": [
    {
     "data": {
      "image/png": "[encoded data removed]",
      "text/plain": [
       "<Figure size 432x288 with 1 Axes>"
      ]
     },
     "metadata": {
      "needs_background": "light"
     },
     "output_type": "display_data"
    }
   ],
   "source": [
    "plt.scatter(a,c);\n",
    "plt.title('A graph showing Confirmed cases against Population 2019 in the Covid_19 dataset')\n",
    "\n",
    "plt.xlabel('Population 2019');\n",
    "plt.ylabel('Confirmed cases');"
   ]
  },
  {
   "cell_type": "code",
   "execution_count": 24,
   "id": "8efec2c5",
   "metadata": {},
   "outputs": [
    {
     "data": {
      "image/png": "[encoded data removed]",
      "text/plain": [
       "<Figure size 432x288 with 1 Axes>"
      ]
     },
     "metadata": {
      "needs_background": "light"
     },
     "output_type": "display_data"
    }
   ],
   "source": [
    "plt.scatter(b,c);\n",
    "plt.title('A graph showing Deaths against Population 2019 in the Covid_19 dataset')\n",
    "plt.xlabel('Population 2019');\n",
    "plt.ylabel('Deaths');"
   ]
  },
  {
   "cell_type": "code",
   "execution_count": 25,
   "id": "e0cab70f",
   "metadata": {},
   "outputs": [
    {
     "data": {
      "image/png": "[encoded data removed]",
      "text/plain": [
       "<Figure size 432x288 with 1 Axes>"
      ]
     },
     "metadata": {
      "needs_background": "light"
     },
     "output_type": "display_data"
    }
   ],
   "source": [
    "plt.scatter(a,b,c);"
   ]
  },
  {
   "cell_type": "code",
   "execution_count": 19,
   "id": "c7c76781",
   "metadata": {},
   "outputs": [
    {
     "data": {
      "image/png": "[encoded data removed]",
      "text/plain": [
       "<Figure size 432x288 with 1 Axes>"
      ]
     },
     "metadata": {
      "needs_background": "light"
     },
     "output_type": "display_data"
    }
   ],
   "source": [
    "plt.plot(a,b,c);"
   ]
  },
  {
   "cell_type": "code",
   "execution_count": 20,
   "id": "1f986c44",
   "metadata": {
    "scrolled": true
   },
   "outputs": [
    {
     "data": {
      "image/png": "[encoded data removed]",
      "text/plain": [
       "<Figure size 432x288 with 1 Axes>"
      ]
     },
     "metadata": {
      "needs_background": "light"
     },
     "output_type": "display_data"
    }
   ],
   "source": [
    "plt.plot(b,linestyle='',color='C0',label='Population 2019');\n",
    "plt.plot(a,linestyle='',color='C5',label='Deaths');\n",
    "plt.plot(c,linestyle='',color='C3',label='Confirmed cases');\n"
   ]
  },
  {
   "cell_type": "code",
   "execution_count": 21,
   "id": "a62b5f00",
   "metadata": {},
   "outputs": [
    {
     "data": {
      "image/png": "[encoded data removed]",
      "text/plain": [
       "<Figure size 432x288 with 1 Axes>"
      ]
     },
     "metadata": {
      "needs_background": "light"
     },
     "output_type": "display_data"
    }
   ],
   "source": [
    "plt.plot(b,c,a);"
   ]
  },
  {
   "cell_type": "code",
   "execution_count": 29,
   "id": "6558567d",
   "metadata": {},
   "outputs": [
    {
     "data": {
      "text/plain": [
       "LinearRegression()"
      ]
     },
     "execution_count": 29,
     "metadata": {},
     "output_type": "execute_result"
    }
   ],
   "source": [
    "#Training data\n",
    "model = LinearRegression(fit_intercept=True)\n",
    "model#defining the class"
   ]
  },
  {
   "cell_type": "code",
   "execution_count": 30,
   "id": "12cee15b",
   "metadata": {},
   "outputs": [
    {
     "name": "stderr",
     "output_type": "stream",
     "text": [
      "C:\\Users\\new\\AppData\\Local\\Temp\\ipykernel_2644\\3107529592.py:1: FutureWarning: Support for multi-dimensional indexing (e.g. `obj[:, None]`) is deprecated and will be removed in a future version.  Convert to a numpy array before indexing instead.\n",
      "  c = c[:,np.newaxis]\n"
     ]
    },
    {
     "data": {
      "text/plain": [
       "(182, 1)"
      ]
     },
     "execution_count": 30,
     "metadata": {},
     "output_type": "execute_result"
    }
   ],
   "source": [
    "c = c[:,np.newaxis]\n",
    "c.shape"
   ]
  },
  {
   "cell_type": "code",
   "execution_count": 41,
   "id": "99b29ef3",
   "metadata": {},
   "outputs": [
    {
     "data": {
      "text/plain": [
       "LinearRegression()"
      ]
     },
     "execution_count": 41,
     "metadata": {},
     "output_type": "execute_result"
    }
   ],
   "source": [
    "g=model.fit(c,b)\n",
    "g #fitting the model"
   ]
  },
  {
   "cell_type": "code",
   "execution_count": 32,
   "id": "d9768676",
   "metadata": {},
   "outputs": [
    {
     "data": {
      "text/plain": [
       "array([5.63871106e-05])"
      ]
     },
     "execution_count": 32,
     "metadata": {},
     "output_type": "execute_result"
    }
   ],
   "source": [
    "model.coef_"
   ]
  },
  {
   "cell_type": "code",
   "execution_count": 33,
   "id": "e5cdaf6c",
   "metadata": {},
   "outputs": [
    {
     "data": {
      "text/plain": [
       "3098.0315116686656"
      ]
     },
     "execution_count": 33,
     "metadata": {},
     "output_type": "execute_result"
    }
   ],
   "source": [
    "model.intercept_"
   ]
  },
  {
   "cell_type": "code",
   "execution_count": 34,
   "id": "752251ac",
   "metadata": {},
   "outputs": [
    {
     "data": {
      "text/plain": [
       "array([[-1.        ],\n",
       "       [-0.7755102 ],\n",
       "       [-0.55102041],\n",
       "       [-0.32653061],\n",
       "       [-0.10204082],\n",
       "       [ 0.12244898],\n",
       "       [ 0.34693878],\n",
       "       [ 0.57142857],\n",
       "       [ 0.79591837],\n",
       "       [ 1.02040816],\n",
       "       [ 1.24489796],\n",
       "       [ 1.46938776],\n",
       "       [ 1.69387755],\n",
       "       [ 1.91836735],\n",
       "       [ 2.14285714],\n",
       "       [ 2.36734694],\n",
       "       [ 2.59183673],\n",
       "       [ 2.81632653],\n",
       "       [ 3.04081633],\n",
       "       [ 3.26530612],\n",
       "       [ 3.48979592],\n",
       "       [ 3.71428571],\n",
       "       [ 3.93877551],\n",
       "       [ 4.16326531],\n",
       "       [ 4.3877551 ],\n",
       "       [ 4.6122449 ],\n",
       "       [ 4.83673469],\n",
       "       [ 5.06122449],\n",
       "       [ 5.28571429],\n",
       "       [ 5.51020408],\n",
       "       [ 5.73469388],\n",
       "       [ 5.95918367],\n",
       "       [ 6.18367347],\n",
       "       [ 6.40816327],\n",
       "       [ 6.63265306],\n",
       "       [ 6.85714286],\n",
       "       [ 7.08163265],\n",
       "       [ 7.30612245],\n",
       "       [ 7.53061224],\n",
       "       [ 7.75510204],\n",
       "       [ 7.97959184],\n",
       "       [ 8.20408163],\n",
       "       [ 8.42857143],\n",
       "       [ 8.65306122],\n",
       "       [ 8.87755102],\n",
       "       [ 9.10204082],\n",
       "       [ 9.32653061],\n",
       "       [ 9.55102041],\n",
       "       [ 9.7755102 ],\n",
       "       [10.        ]])"
      ]
     },
     "execution_count": 34,
     "metadata": {},
     "output_type": "execute_result"
    }
   ],
   "source": [
    "##predicticting the model\n",
    "cfit = np.linspace(-1,10)\n",
    "cfit = cfit[:,np.newaxis]\n",
    "cfit"
   ]
  },
  {
   "cell_type": "code",
   "execution_count": 35,
   "id": "dac858b4",
   "metadata": {},
   "outputs": [
    {
     "data": {
      "text/plain": [
       "array([3098.03145528, 3098.03146794, 3098.0314806 , 3098.03149326,\n",
       "       3098.03150591, 3098.03151857, 3098.03153123, 3098.03154389,\n",
       "       3098.03155655, 3098.03156921, 3098.03158186, 3098.03159452,\n",
       "       3098.03160718, 3098.03161984, 3098.0316325 , 3098.03164516,\n",
       "       3098.03165781, 3098.03167047, 3098.03168313, 3098.03169579,\n",
       "       3098.03170845, 3098.03172111, 3098.03173376, 3098.03174642,\n",
       "       3098.03175908, 3098.03177174, 3098.0317844 , 3098.03179706,\n",
       "       3098.03180971, 3098.03182237, 3098.03183503, 3098.03184769,\n",
       "       3098.03186035, 3098.03187301, 3098.03188566, 3098.03189832,\n",
       "       3098.03191098, 3098.03192364, 3098.0319363 , 3098.03194896,\n",
       "       3098.03196161, 3098.03197427, 3098.03198693, 3098.03199959,\n",
       "       3098.03201225, 3098.03202491, 3098.03203756, 3098.03205022,\n",
       "       3098.03206288, 3098.03207554])"
      ]
     },
     "execution_count": 35,
     "metadata": {},
     "output_type": "execute_result"
    }
   ],
   "source": [
    "bfit = model.predict(cfit)\n",
    "bfit"
   ]
  },
  {
   "cell_type": "code",
   "execution_count": 36,
   "id": "114f09ba",
   "metadata": {},
   "outputs": [
    {
     "data": {
      "text/plain": [
       "<matplotlib.collections.PathCollection at 0x21d8f91f280>"
      ]
     },
     "execution_count": 36,
     "metadata": {},
     "output_type": "execute_result"
    },
    {
     "data": {
      "image/png": "[encoded data removed]",
      "text/plain": [
       "<Figure size 432x288 with 1 Axes>"
      ]
     },
     "metadata": {
      "needs_background": "light"
     },
     "output_type": "display_data"
    }
   ],
   "source": [
    "plt.scatter(c,b)"
   ]
  },
  {
   "cell_type": "code",
   "execution_count": 49,
   "id": "9c82cebf",
   "metadata": {},
   "outputs": [
    {
     "data": {
      "text/plain": [
       "Text(0, 0.5, 'Deaths')"
      ]
     },
     "execution_count": 49,
     "metadata": {},
     "output_type": "execute_result"
    },
    {
     "data": {
      "image/png": "[encoded data removed]",
      "text/plain": [
       "<Figure size 432x288 with 1 Axes>"
      ]
     },
     "metadata": {
      "needs_background": "light"
     },
     "output_type": "display_data"
    }
   ],
   "source": [
    "#predicted value graphs\n",
    "plt.scatter(cfit,bfit,color='red')\n",
    "plt.xlabel('Population 2019')\n",
    "plt.ylabel('Deaths')"
   ]
  },
  {
   "cell_type": "code",
   "execution_count": 39,
   "id": "e273d7d8",
   "metadata": {},
   "outputs": [
    {
     "data": {
      "text/plain": [
       "Text(0.5, 1.0, 'The graph showing the simple linear regression model ')"
      ]
     },
     "execution_count": 39,
     "metadata": {},
     "output_type": "execute_result"
    },
    {
     "data": {
      "image/png": "[encoded data removed]",
      "text/plain": [
       "<Figure size 432x288 with 1 Axes>"
      ]
     },
     "metadata": {
      "needs_background": "light"
     },
     "output_type": "display_data"
    }
   ],
   "source": [
    "#combined simple model\n",
    "plt.scatter(c,b)\n",
    "plt.scatter(cfit,bfit,color='red')\n",
    "plt.xlabel('population_2019')\n",
    "plt.ylabel('deaths')\n",
    "plt.title('The graph showing the simple linear regression model ')"
   ]
  },
  {
   "cell_type": "code",
   "execution_count": 45,
   "id": "62a9e356",
   "metadata": {},
   "outputs": [],
   "source": [
    "#fitting using ols to limit the errors\n",
    "import statsmodels.formula.api as smf"
   ]
  },
  {
   "cell_type": "code",
   "execution_count": 46,
   "id": "95db961e",
   "metadata": {},
   "outputs": [],
   "source": [
    "model_1 = smf.ols(\"c~b\", data=df).fit()"
   ]
  },
  {
   "cell_type": "code",
   "execution_count": 47,
   "id": "ac7fb7bb",
   "metadata": {},
   "outputs": [
    {
     "data": {
      "text/plain": [
       "Intercept    2.630585e+07\n",
       "b            2.835364e+03\n",
       "dtype: float64"
      ]
     },
     "execution_count": 47,
     "metadata": {},
     "output_type": "execute_result"
    }
   ],
   "source": [
    "model_1.params"
   ]
  },
  {
   "cell_type": "code",
   "execution_count": 48,
   "id": "51428d99",
   "metadata": {},
   "outputs": [
    {
     "data": {
      "text/html": [
       "<table class=\"simpletable\">\n",
       "<caption>OLS Regression Results</caption>\n",
       "<tr>\n",
       "  <th>Dep. Variable:</th>            <td>c</td>        <th>  R-squared:         </th> <td>   0.160</td>\n",
       "</tr>\n",
       "<tr>\n",
       "  <th>Model:</th>                   <td>OLS</td>       <th>  Adj. R-squared:    </th> <td>   0.155</td>\n",
       "</tr>\n",
       "<tr>\n",
       "  <th>Method:</th>             <td>Least Squares</td>  <th>  F-statistic:       </th> <td>   34.25</td>\n",
       "</tr>\n",
       "<tr>\n",
       "  <th>Date:</th>             <td>Thu, 02 Feb 2023</td> <th>  Prob (F-statistic):</th> <td>2.24e-08</td>\n",
       "</tr>\n",
       "<tr>\n",
       "  <th>Time:</th>                 <td>10:00:27</td>     <th>  Log-Likelihood:    </th> <td> -3667.6</td>\n",
       "</tr>\n",
       "<tr>\n",
       "  <th>No. Observations:</th>      <td>   182</td>      <th>  AIC:               </th> <td>   7339.</td>\n",
       "</tr>\n",
       "<tr>\n",
       "  <th>Df Residuals:</th>          <td>   180</td>      <th>  BIC:               </th> <td>   7346.</td>\n",
       "</tr>\n",
       "<tr>\n",
       "  <th>Df Model:</th>              <td>     1</td>      <th>                     </th>     <td> </td>   \n",
       "</tr>\n",
       "<tr>\n",
       "  <th>Covariance Type:</th>      <td>nonrobust</td>    <th>                     </th>     <td> </td>   \n",
       "</tr>\n",
       "</table>\n",
       "<table class=\"simpletable\">\n",
       "<tr>\n",
       "      <td></td>         <th>coef</th>     <th>std err</th>      <th>t</th>      <th>P>|t|</th>  <th>[0.025</th>    <th>0.975]</th>  \n",
       "</tr>\n",
       "<tr>\n",
       "  <th>Intercept</th> <td> 2.631e+07</td> <td> 1.05e+07</td> <td>    2.500</td> <td> 0.013</td> <td> 5.55e+06</td> <td> 4.71e+07</td>\n",
       "</tr>\n",
       "<tr>\n",
       "  <th>b</th>         <td> 2835.3644</td> <td>  484.451</td> <td>    5.853</td> <td> 0.000</td> <td> 1879.432</td> <td> 3791.297</td>\n",
       "</tr>\n",
       "</table>\n",
       "<table class=\"simpletable\">\n",
       "<tr>\n",
       "  <th>Omnibus:</th>       <td>303.655</td> <th>  Durbin-Watson:     </th> <td>   1.893</td> \n",
       "</tr>\n",
       "<tr>\n",
       "  <th>Prob(Omnibus):</th> <td> 0.000</td>  <th>  Jarque-Bera (JB):  </th> <td>41167.922</td>\n",
       "</tr>\n",
       "<tr>\n",
       "  <th>Skew:</th>          <td> 8.048</td>  <th>  Prob(JB):          </th> <td>    0.00</td> \n",
       "</tr>\n",
       "<tr>\n",
       "  <th>Kurtosis:</th>      <td>74.901</td>  <th>  Cond. No.          </th> <td>2.24e+04</td> \n",
       "</tr>\n",
       "</table><br/><br/>Notes:<br/>[1] Standard Errors assume that the covariance matrix of the errors is correctly specified.<br/>[2] The condition number is large, 2.24e+04. This might indicate that there are<br/>strong multicollinearity or other numerical problems."
      ],
      "text/plain": [
       "<class 'statsmodels.iolib.summary.Summary'>\n",
       "\"\"\"\n",
       "                            OLS Regression Results                            \n",
       "==============================================================================\n",
       "Dep. Variable:                      c   R-squared:                       0.160\n",
       "Model:                            OLS   Adj. R-squared:                  0.155\n",
       "Method:                 Least Squares   F-statistic:                     34.25\n",
       "Date:                Thu, 02 Feb 2023   Prob (F-statistic):           2.24e-08\n",
       "Time:                        10:00:27   Log-Likelihood:                -3667.6\n",
       "No. Observations:                 182   AIC:                             7339.\n",
       "Df Residuals:                     180   BIC:                             7346.\n",
       "Df Model:                           1                                         \n",
       "Covariance Type:            nonrobust                                         \n",
       "==============================================================================\n",
       "                 coef    std err          t      P>|t|      [0.025      0.975]\n",
       "------------------------------------------------------------------------------\n",
       "Intercept   2.631e+07   1.05e+07      2.500      0.013    5.55e+06    4.71e+07\n",
       "b           2835.3644    484.451      5.853      0.000    1879.432    3791.297\n",
       "==============================================================================\n",
       "Omnibus:                      303.655   Durbin-Watson:                   1.893\n",
       "Prob(Omnibus):                  0.000   Jarque-Bera (JB):            41167.922\n",
       "Skew:                           8.048   Prob(JB):                         0.00\n",
       "Kurtosis:                      74.901   Cond. No.                     2.24e+04\n",
       "==============================================================================\n",
       "\n",
       "Notes:\n",
       "[1] Standard Errors assume that the covariance matrix of the errors is correctly specified.\n",
       "[2] The condition number is large, 2.24e+04. This might indicate that there are\n",
       "strong multicollinearity or other numerical problems.\n",
       "\"\"\""
      ]
     },
     "execution_count": 48,
     "metadata": {},
     "output_type": "execute_result"
    }
   ],
   "source": [
    "#obtaining the summary of the model\n",
    "model_1.summary()"
   ]
  },
  {
   "cell_type": "code",
   "execution_count": null,
   "id": "c9b6d00e",
   "metadata": {},
   "outputs": [],
   "source": []
  },
  {
   "cell_type": "code",
   "execution_count": null,
   "id": "cc93f23b",
   "metadata": {},
   "outputs": [],
   "source": []
  }
 ],
 "metadata": {
  "kernelspec": {
   "display_name": "Python 3 (ipykernel)",
   "language": "python",
   "name": "python3"
  },
  "language_info": {
   "codemirror_mode": {
    "name": "ipython",
    "version": 3
   },
   "file_extension": ".py",
   "mimetype": "text/x-python",
   "name": "python",
   "nbconvert_exporter": "python",
   "pygments_lexer": "ipython3",
   "version": "3.9.12"
  }
 },
 "nbformat": 4,
 "nbformat_minor": 5
}
